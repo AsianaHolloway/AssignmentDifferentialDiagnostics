{
  "nbformat": 4,
  "nbformat_minor": 0,
  "metadata": {
    "colab": {
      "provenance": [],
      "include_colab_link": true
    },
    "kernelspec": {
      "name": "python3",
      "display_name": "Python 3"
    },
    "language_info": {
      "name": "python"
    }
  },
  "cells": [
    {
      "cell_type": "markdown",
      "metadata": {
        "id": "view-in-github",
        "colab_type": "text"
      },
      "source": [
        "<a href=\"https://colab.research.google.com/github/AsianaHolloway/AssignmentDifferentialDiagnostics/blob/main/AssignmentDiffrentialDiagnostics.ipynb\" target=\"_parent\"><img src=\"https://colab.research.google.com/assets/colab-badge.svg\" alt=\"Open In Colab\"/></a>"
      ]
    },
    {
      "cell_type": "markdown",
      "source": [
        "# Assignment: Low-Level Differential Diagnostic System\n",
        "\n",
        "In this assignment, you will implement a low-level differential diagnostic system using Python. The goal of this assignment is to solidify your understanding of the system without using machine learning. The system will calculate the most probable diagnoses based on input symptoms, evoking strengths, frequencies, and, optionally, test results.\n",
        "\n"
      ],
      "metadata": {
        "id": "YUDxvGcZ5lWj"
      }
    },
    {
      "cell_type": "markdown",
      "source": [
        "SQLAlchemy is the Python SQL toolkit and Object Relational Mapper that gives application developers the full power and flexibility of SQL. This package is pre installed if you are using google Colab and you can skip installing the package."
      ],
      "metadata": {
        "id": "zjIOptHJUyt_"
      }
    },
    {
      "cell_type": "code",
      "source": [
        "import os, json\n",
        "\n",
        "json_path = \"/content/symptom_database.json\"  # or your Drive path\n",
        "print(\"Exists?\", os.path.exists(json_path))\n",
        "\n",
        "with open(json_path, \"r\") as f:\n",
        "    db = json.load(f)\n",
        "\n",
        "print(\"Top-level keys (symptoms):\", list(db.keys())[:5], \"… total:\", len(db))\n"
      ],
      "metadata": {
        "colab": {
          "base_uri": "https://localhost:8080/"
        },
        "id": "qNkh7qNVIqIK",
        "outputId": "f434b4ab-ac0c-44da-ff74-bcd6dd068315"
      },
      "execution_count": null,
      "outputs": [
        {
          "output_type": "stream",
          "name": "stdout",
          "text": [
            "Exists? True\n",
            "Top-level keys (symptoms): ['Fever', 'Cough', 'Shortness of Breath', 'Headache', 'Fatigue'] … total: 13\n"
          ]
        }
      ]
    },
    {
      "cell_type": "code",
      "source": [
        "#Uncomment to Install\n",
        "# !pip install SQLAlchemy"
      ],
      "metadata": {
        "id": "ZqI0hwAUkyiM"
      },
      "execution_count": null,
      "outputs": []
    },
    {
      "cell_type": "markdown",
      "source": [
        "Lets Import all the Nessesary packages"
      ],
      "metadata": {
        "id": "SaGsqfluVSzY"
      }
    },
    {
      "cell_type": "code",
      "execution_count": null,
      "metadata": {
        "id": "TSM9w9xdUZ_c"
      },
      "outputs": [],
      "source": [
        "import json\n",
        "import pprint\n",
        "from sqlalchemy import create_engine, Column, Integer, String, Float, Table, ForeignKey\n",
        "from sqlalchemy.orm import sessionmaker, relationship\n",
        "from sqlalchemy.orm import declarative_base"
      ]
    },
    {
      "cell_type": "markdown",
      "source": [
        "## Step 1: Data Collection"
      ],
      "metadata": {
        "id": "K7fLLhuOXYO3"
      }
    },
    {
      "cell_type": "markdown",
      "source": [
        "Utilize the \"symptom_database.json\" file available on the Assignment Canvas Page. Please ensure you upload the file to Google Colab if you are using Colab for your work."
      ],
      "metadata": {
        "id": "aEZzsUu7VYpQ"
      }
    },
    {
      "cell_type": "code",
      "source": [
        "symptom_database = \"\"\n",
        "# Opening JSON file\n",
        "with open('symptom_database.json', 'r') as openfile:\n",
        "\n",
        "    # Reading from json file\n",
        "    symptom_database = json.load(openfile)"
      ],
      "metadata": {
        "id": "jK1UqUQSjqay"
      },
      "execution_count": null,
      "outputs": []
    },
    {
      "cell_type": "markdown",
      "source": [
        "The pprint module provides a capability to “pretty-print” arbitrary Python data structures like JSON"
      ],
      "metadata": {
        "id": "curBrsk5W31I"
      }
    },
    {
      "cell_type": "code",
      "source": [
        "pprint.pprint(symptom_database)"
      ],
      "metadata": {
        "colab": {
          "base_uri": "https://localhost:8080/"
        },
        "id": "ohjeKHVxWN9i",
        "outputId": "f72a6241-31d1-4b06-ec9e-ea29a563e9c6"
      },
      "execution_count": null,
      "outputs": [
        {
          "output_type": "stream",
          "name": "stdout",
          "text": [
            "{'Abdominal Pain': [{'Class': 'Gastrointestinal Disorder',\n",
            "                     'Condition': 'Gastritis',\n",
            "                     'Evoking_Strength': 3,\n",
            "                     'Frequency': 2},\n",
            "                    {'Class': 'Gastrointestinal Disorder',\n",
            "                     'Condition': 'Appendicitis',\n",
            "                     'Evoking_Strength': 4,\n",
            "                     'Frequency': 2}],\n",
            " 'Chest Pain': [{'Class': 'Cardiovascular Disorder',\n",
            "                 'Condition': 'Heart Attack',\n",
            "                 'Evoking_Strength': 4,\n",
            "                 'Frequency': 1},\n",
            "                {'Class': 'Gastrointestinal Disorder',\n",
            "                 'Condition': 'Gastroesophageal Reflux Disease (GERD)',\n",
            "                 'Evoking_Strength': 3,\n",
            "                 'Frequency': 2}],\n",
            " 'Cough': [{'Class': 'Viral Infection',\n",
            "            'Condition': 'COVID-19',\n",
            "            'Evoking_Strength': 4,\n",
            "            'Frequency': 3},\n",
            "           {'Class': 'Viral Infection',\n",
            "            'Condition': 'Common Cold',\n",
            "            'Evoking_Strength': 3,\n",
            "            'Frequency': 3},\n",
            "           {'Class': 'Respiratory Infection',\n",
            "            'Condition': 'Bronchitis',\n",
            "            'Evoking_Strength': 3,\n",
            "            'Frequency': 2}],\n",
            " 'Dizziness': [{'Class': 'Neurological Disorder',\n",
            "                'Condition': 'Vertigo',\n",
            "                'Evoking_Strength': 3,\n",
            "                'Frequency': 2},\n",
            "               {'Class': 'Cardiovascular Disorder',\n",
            "                'Condition': 'Low Blood Pressure',\n",
            "                'Evoking_Strength': 2,\n",
            "                'Frequency': 2}],\n",
            " 'Fatigue': [{'Class': 'Autoimmune Disorder',\n",
            "              'Condition': 'Chronic Fatigue Syndrome',\n",
            "              'Evoking_Strength': 3,\n",
            "              'Frequency': 1},\n",
            "             {'Class': 'Hematological Disorder',\n",
            "              'Condition': 'Anemia',\n",
            "              'Evoking_Strength': 2,\n",
            "              'Frequency': 2}],\n",
            " 'Fever': [{'Class': 'Viral Infection',\n",
            "            'Condition': 'Influenza',\n",
            "            'Evoking_Strength': 4,\n",
            "            'Frequency': 3},\n",
            "           {'Class': 'Viral Infection',\n",
            "            'Condition': 'COVID-19',\n",
            "            'Evoking_Strength': 4,\n",
            "            'Frequency': 3},\n",
            "           {'Class': 'Viral Infection',\n",
            "            'Condition': 'Common Cold',\n",
            "            'Evoking_Strength': 3,\n",
            "            'Frequency': 3}],\n",
            " 'Frequent Urination': [{'Class': 'Urinary Disorder',\n",
            "                         'Condition': 'Urinary Tract Infection (UTI)',\n",
            "                         'Evoking_Strength': 3,\n",
            "                         'Frequency': 2},\n",
            "                        {'Class': 'Metabolic Disorder',\n",
            "                         'Condition': 'Diabetes',\n",
            "                         'Evoking_Strength': 3,\n",
            "                         'Frequency': 2}],\n",
            " 'Headache': [{'Class': 'Neurological Disorder',\n",
            "               'Condition': 'Migraine',\n",
            "               'Evoking_Strength': 4,\n",
            "               'Frequency': 3},\n",
            "              {'Class': 'Neurological Disorder',\n",
            "               'Condition': 'Tension Headache',\n",
            "               'Evoking_Strength': 3,\n",
            "               'Frequency': 3},\n",
            "              {'Class': 'Respiratory Infection',\n",
            "               'Condition': 'Sinusitis',\n",
            "               'Evoking_Strength': 3,\n",
            "               'Frequency': 2}],\n",
            " 'Joint Pain': [{'Class': 'Autoimmune Disorder',\n",
            "                 'Condition': 'Rheumatoid Arthritis',\n",
            "                 'Evoking_Strength': 3,\n",
            "                 'Frequency': 2},\n",
            "                {'Class': 'Musculoskeletal Disorder',\n",
            "                 'Condition': 'Osteoarthritis',\n",
            "                 'Evoking_Strength': 2,\n",
            "                 'Frequency': 2}],\n",
            " 'Nausea': [{'Class': 'Gastrointestinal Disorder',\n",
            "             'Condition': 'Food Poisoning',\n",
            "             'Evoking_Strength': 3,\n",
            "             'Frequency': 2},\n",
            "            {'Class': 'Pregnancy-related',\n",
            "             'Condition': 'Morning Sickness',\n",
            "             'Evoking_Strength': 2,\n",
            "             'Frequency': 2}],\n",
            " 'Rash': [{'Class': 'Skin Disorder',\n",
            "           'Condition': 'Eczema',\n",
            "           'Evoking_Strength': 3,\n",
            "           'Frequency': 2},\n",
            "          {'Class': 'Skin Disorder',\n",
            "           'Condition': 'Contact Dermatitis',\n",
            "           'Evoking_Strength': 3,\n",
            "           'Frequency': 2}],\n",
            " 'Shortness of Breath': [{'Class': 'Respiratory Disorder',\n",
            "                          'Condition': 'Asthma',\n",
            "                          'Evoking_Strength': 4,\n",
            "                          'Frequency': 2},\n",
            "                         {'Class': 'Viral Infection',\n",
            "                          'Condition': 'COVID-19',\n",
            "                          'Evoking_Strength': 4,\n",
            "                          'Frequency': 3},\n",
            "                         {'Class': 'Respiratory Infection',\n",
            "                          'Condition': 'Pneumonia',\n",
            "                          'Evoking_Strength': 3,\n",
            "                          'Frequency': 2}],\n",
            " 'Vomiting': [{'Class': 'Gastrointestinal Disorder',\n",
            "               'Condition': 'Gastroenteritis',\n",
            "               'Evoking_Strength': 3,\n",
            "               'Frequency': 2},\n",
            "              {'Class': 'Gastrointestinal Disorder',\n",
            "               'Condition': 'Appendicitis',\n",
            "               'Evoking_Strength': 4,\n",
            "               'Frequency': 2}]}\n"
          ]
        }
      ]
    },
    {
      "cell_type": "markdown",
      "source": [
        "Frequency:\n",
        "\n",
        "1: Rare\n",
        "2: Occasional\n",
        "3: Common\n",
        "4: Very Common\n",
        "\n",
        "\n",
        "Evoking_Strength:\n",
        "\n",
        "1: Low\n",
        "2: Moderate\n",
        "3: Medium\n",
        "4: High"
      ],
      "metadata": {
        "id": "GBAOqpO4a5Ho"
      }
    },
    {
      "cell_type": "markdown",
      "source": [
        "As you can observe, the dataset includes symptoms and their corresponding associated conditions. These conditions are categorized into various classes and include information about their evoking strength and frequency of occurrence."
      ],
      "metadata": {
        "id": "T4TEf3PXXTOw"
      }
    },
    {
      "cell_type": "markdown",
      "source": [
        "***It's important to emphasize that this dataset is for illustrative purposes only and is artificially generated; it does not reflect scientific or clinical accuracy.***"
      ],
      "metadata": {
        "id": "rapvTz6VY3LJ"
      }
    },
    {
      "cell_type": "markdown",
      "source": [
        "### Exercise 1a:  2 pts\n",
        "\n",
        "Count the Number of Symptoms present in **symptom_database** and print the Value"
      ],
      "metadata": {
        "id": "hQxttVT_Y-tQ"
      }
    },
    {
      "cell_type": "code",
      "source": [
        "import json\n",
        "\n",
        "JSON_PATH = \"symptom_database.json\"  # or \"/content/symptom_database.json\"\n",
        "with open(JSON_PATH, \"r\") as f:\n",
        "    symptom_db = json.load(f)\n",
        "\n",
        "# Each top-level key is a symptom\n",
        "num_symptoms = len(symptom_db.keys())\n",
        "print(\"Number of symptoms in the database:\", num_symptoms)\n"
      ],
      "metadata": {
        "id": "XMU8nNG_ZK2_",
        "colab": {
          "base_uri": "https://localhost:8080/"
        },
        "outputId": "4db64185-09d7-4b4f-c04c-21f43a24397c"
      },
      "execution_count": null,
      "outputs": [
        {
          "output_type": "stream",
          "name": "stdout",
          "text": [
            "Number of symptoms in the database: 13\n"
          ]
        }
      ]
    },
    {
      "cell_type": "markdown",
      "source": [
        "### Exercise 1b: 3 pts\n",
        "\n",
        "ABC Hospital relies on the information stored in the **symptom_database** for potential initial diagnoses. A patient arrives at the hospital with the symptom \"Cough.\" Your task is to **write code that prints the potential initial conditions, one at a time, for the patient's condition.**\n",
        "\n",
        "*Hint: You can use a loop to iterate over the conditions associated with \"Cough\" and print them sequentially.*"
      ],
      "metadata": {
        "id": "-Qv1yG54Zb3w"
      }
    },
    {
      "cell_type": "code",
      "source": [
        "# Target symptom from the exercise\n",
        "target_symptom = \"Cough\"\n",
        "\n",
        "# Get the list of conditions linked to that symptom\n",
        "conditions_for_symptom = symptom_db[target_symptom]\n",
        "\n",
        "# Print each condition one by one\n",
        "print(f\"Potential initial conditions for symptom: {target_symptom}\\n\")\n",
        "for condition in conditions_for_symptom:\n",
        "    print(f\"- {condition['Condition']} \"\n",
        "          f\"(Class: {condition['Class']}, \"\n",
        "          f\"Frequency: {condition['Frequency']}, \"\n",
        "          f\"Evoking_Strength: {condition['Evoking_Strength']})\")\n"
      ],
      "metadata": {
        "id": "Oy_mg7VAftpQ",
        "colab": {
          "base_uri": "https://localhost:8080/"
        },
        "outputId": "78b4b579-c9bd-4f2a-ddf5-06dcf4251106"
      },
      "execution_count": null,
      "outputs": [
        {
          "output_type": "stream",
          "name": "stdout",
          "text": [
            "Potential initial conditions for symptom: Cough\n",
            "\n",
            "- COVID-19 (Class: Viral Infection, Frequency: 3, Evoking_Strength: 4)\n",
            "- Common Cold (Class: Viral Infection, Frequency: 3, Evoking_Strength: 3)\n",
            "- Bronchitis (Class: Respiratory Infection, Frequency: 2, Evoking_Strength: 3)\n"
          ]
        }
      ]
    },
    {
      "cell_type": "markdown",
      "source": [
        "Through this exercises, you may have encountered challenges when extracting information from data represented as a JSON (Python Dictionary). While JSON is versatile, there are limitations to efficiently extracting data from it. As an alternative, we can leverage relational databases like SQL, which offer robust querying capabilities and can significantly simplify the process of extracting information, eliminating the need for custom code."
      ],
      "metadata": {
        "id": "Mxrqo6Bih4SQ"
      }
    },
    {
      "cell_type": "markdown",
      "source": [
        "## Step 2: Use SQLAlchemy to Create an SQL Database"
      ],
      "metadata": {
        "id": "iJeUTFQmf0N_"
      }
    },
    {
      "cell_type": "markdown",
      "source": [
        "Transform the symptom_database which is in JSON format into an SQL database using SQLAlchemy. Define appropriate table structures for symptoms and conditions, and establish a many-to-many relationship between them."
      ],
      "metadata": {
        "id": "HNitbmbOhqUY"
      }
    },
    {
      "cell_type": "code",
      "source": [
        "# Define the SQLAlchemy engine and session\n",
        "engine = create_engine('sqlite:///symptom_database.db')\n",
        "Session = sessionmaker(bind=engine)"
      ],
      "metadata": {
        "id": "sm4p369ao191"
      },
      "execution_count": null,
      "outputs": []
    },
    {
      "cell_type": "code",
      "source": [
        "# Define the SQLAlchemy engine and session\n",
        "session = Session()\n",
        "\n",
        "Base = declarative_base()\n",
        "\n",
        "# Association table to represent the many-to-many relationship\n",
        "symptom_condition_association = Table(\n",
        "    'symptom_condition_association',\n",
        "    Base.metadata,\n",
        "    Column('symptom_id', Integer, ForeignKey('symptoms.id')),\n",
        "    Column('condition_id', Integer, ForeignKey('conditions.id'))\n",
        ")\n",
        "\n",
        "class Symptom(Base):\n",
        "    __tablename__ = 'symptoms'\n",
        "\n",
        "    id = Column(Integer, primary_key=True)\n",
        "    name = Column(String, nullable=False)\n",
        "    conditions = relationship(\"Condition\", secondary=symptom_condition_association)\n",
        "\n",
        "class Condition(Base):\n",
        "    __tablename__ = 'conditions'\n",
        "\n",
        "    id = Column(Integer, primary_key=True)\n",
        "    name = Column(String, nullable=False)\n",
        "    class_name = Column(String, nullable=True)\n",
        "    frequency = Column(Float, nullable=True)\n",
        "    evoking_strength = Column(Float, nullable=True)\n",
        "\n",
        "Base.metadata.create_all(engine)\n",
        "\n"
      ],
      "metadata": {
        "id": "tuHdpxz8jsmX"
      },
      "execution_count": null,
      "outputs": []
    },
    {
      "cell_type": "markdown",
      "source": [
        "Now that we have the tables defined lets add data to the database"
      ],
      "metadata": {
        "id": "TsMcI0wEi3Rx"
      }
    },
    {
      "cell_type": "code",
      "source": [
        "# Add data to the database\n",
        "for symptom_name, conditions in symptom_database.items():\n",
        "    # Check if the symptom already exists in the database\n",
        "    existing_symptom = session.query(Symptom).filter_by(name=symptom_name).first()\n",
        "\n",
        "    # If the symptom doesn't exist, create it\n",
        "    if not existing_symptom:\n",
        "        new_symptom = Symptom(name=symptom_name)\n",
        "        session.add(new_symptom)\n",
        "    else:\n",
        "        new_symptom = existing_symptom\n",
        "\n",
        "    # Add associated conditions to the symptom\n",
        "    for condition_data in conditions:\n",
        "        condition_name = condition_data[\"Condition\"]\n",
        "        class_name = condition_data.get(\"Class\")\n",
        "        frequency = condition_data.get(\"Frequency\")\n",
        "        evoking_strength = condition_data.get(\"Evoking_Strength\")\n",
        "\n",
        "        # Check if the condition already exists in the database\n",
        "        existing_condition = session.query(Condition).filter_by(name=condition_name).first()\n",
        "\n",
        "        # If the condition doesn't exist, create it\n",
        "        if not existing_condition:\n",
        "            new_condition = Condition(\n",
        "                name=condition_name,\n",
        "                class_name=class_name,\n",
        "                frequency=frequency,\n",
        "                evoking_strength=evoking_strength,\n",
        "            )\n",
        "            session.add(new_condition)\n",
        "        else:\n",
        "            new_condition = existing_condition\n",
        "\n",
        "        # Add the condition to the symptom's conditions list\n",
        "        if new_condition not in new_symptom.conditions:\n",
        "            new_symptom.conditions.append(new_condition)\n",
        "\n",
        "# Commit the changes to the database\n",
        "session.commit()\n",
        "\n",
        "# Close the session\n",
        "session.close()"
      ],
      "metadata": {
        "id": "es8LedN8lbZy"
      },
      "execution_count": null,
      "outputs": []
    },
    {
      "cell_type": "markdown",
      "source": [
        "## Step 3: Querying"
      ],
      "metadata": {
        "id": "OmLVEaibkL24"
      }
    },
    {
      "cell_type": "markdown",
      "source": [
        "Print all Conditions"
      ],
      "metadata": {
        "id": "UyZceGEsj5Ig"
      }
    },
    {
      "cell_type": "code",
      "source": [
        "# Define the SQLAlchemy session\n",
        "\n",
        "session = Session()\n",
        "\n",
        "# Query all conditions from the database\n",
        "all_conditions = session.query(Condition).all()\n",
        "\n",
        "# Print the list of conditions\n",
        "for condition in all_conditions:\n",
        "    print(f\"Condition: {condition.name}\")\n",
        "    print(f\"Class: {condition.class_name}\")\n",
        "    print()\n",
        "\n",
        "# Close the session\n",
        "session.close()"
      ],
      "metadata": {
        "colab": {
          "base_uri": "https://localhost:8080/"
        },
        "id": "hFcJxA_ill7a",
        "outputId": "5e31a7a9-5231-4f72-9010-f581b6c90a43"
      },
      "execution_count": null,
      "outputs": [
        {
          "output_type": "stream",
          "name": "stdout",
          "text": [
            "Condition: Influenza\n",
            "Class: Viral Infection\n",
            "\n",
            "Condition: COVID-19\n",
            "Class: Viral Infection\n",
            "\n",
            "Condition: Common Cold\n",
            "Class: Viral Infection\n",
            "\n",
            "Condition: Bronchitis\n",
            "Class: Respiratory Infection\n",
            "\n",
            "Condition: Asthma\n",
            "Class: Respiratory Disorder\n",
            "\n",
            "Condition: Pneumonia\n",
            "Class: Respiratory Infection\n",
            "\n",
            "Condition: Migraine\n",
            "Class: Neurological Disorder\n",
            "\n",
            "Condition: Tension Headache\n",
            "Class: Neurological Disorder\n",
            "\n",
            "Condition: Sinusitis\n",
            "Class: Respiratory Infection\n",
            "\n",
            "Condition: Chronic Fatigue Syndrome\n",
            "Class: Autoimmune Disorder\n",
            "\n",
            "Condition: Anemia\n",
            "Class: Hematological Disorder\n",
            "\n",
            "Condition: Gastritis\n",
            "Class: Gastrointestinal Disorder\n",
            "\n",
            "Condition: Appendicitis\n",
            "Class: Gastrointestinal Disorder\n",
            "\n",
            "Condition: Food Poisoning\n",
            "Class: Gastrointestinal Disorder\n",
            "\n",
            "Condition: Morning Sickness\n",
            "Class: Pregnancy-related\n",
            "\n",
            "Condition: Gastroenteritis\n",
            "Class: Gastrointestinal Disorder\n",
            "\n",
            "Condition: Heart Attack\n",
            "Class: Cardiovascular Disorder\n",
            "\n",
            "Condition: Gastroesophageal Reflux Disease (GERD)\n",
            "Class: Gastrointestinal Disorder\n",
            "\n",
            "Condition: Rheumatoid Arthritis\n",
            "Class: Autoimmune Disorder\n",
            "\n",
            "Condition: Osteoarthritis\n",
            "Class: Musculoskeletal Disorder\n",
            "\n",
            "Condition: Vertigo\n",
            "Class: Neurological Disorder\n",
            "\n",
            "Condition: Low Blood Pressure\n",
            "Class: Cardiovascular Disorder\n",
            "\n",
            "Condition: Eczema\n",
            "Class: Skin Disorder\n",
            "\n",
            "Condition: Contact Dermatitis\n",
            "Class: Skin Disorder\n",
            "\n",
            "Condition: Urinary Tract Infection (UTI)\n",
            "Class: Urinary Disorder\n",
            "\n",
            "Condition: Diabetes\n",
            "Class: Metabolic Disorder\n",
            "\n"
          ]
        }
      ]
    },
    {
      "cell_type": "markdown",
      "source": [
        "Query Associated Conitions for a Symptom"
      ],
      "metadata": {
        "id": "N0ztEkYIkHWg"
      }
    },
    {
      "cell_type": "code",
      "source": [
        "def query_symptoms_by_name(name_filter=None):\n",
        "    session = Session()\n",
        "    # Define the query\n",
        "    query = session.query(Symptom)\n",
        "\n",
        "    # Apply the name filter if provided\n",
        "    if name_filter:\n",
        "        query = query.filter(Symptom.name.ilike(f'%{name_filter}%'))\n",
        "\n",
        "    # Query symptoms from the database\n",
        "    symptoms = query.all()\n",
        "\n",
        "    # Print the list of symptoms\n",
        "    for symptom in symptoms:\n",
        "      print(f\"Symptom: {symptom.name}\")\n",
        "      for condition in symptom.conditions:\n",
        "          print(f\"Associated Condition: {condition.name}\")\n",
        "\n",
        "    # Close the session\n",
        "    session.close()\n",
        "\n",
        "\n",
        "symptom_name_filter = \"Fever\"  # Replace with the symptom name you want to filter\n",
        "query_symptoms_by_name(symptom_name_filter)"
      ],
      "metadata": {
        "colab": {
          "base_uri": "https://localhost:8080/"
        },
        "id": "cpDblWpUosGV",
        "outputId": "600eb2cc-123e-452f-bc16-d1a594600487"
      },
      "execution_count": null,
      "outputs": [
        {
          "output_type": "stream",
          "name": "stdout",
          "text": [
            "Symptom: Fever\n",
            "Associated Condition: Influenza\n",
            "Associated Condition: COVID-19\n",
            "Associated Condition: Common Cold\n"
          ]
        }
      ]
    },
    {
      "cell_type": "markdown",
      "source": [
        "## Step : 6 Implement the Diagnostic System"
      ],
      "metadata": {
        "id": "zOgtw678lEcA"
      }
    },
    {
      "cell_type": "markdown",
      "source": [
        "Create functions in Python to implement the diagnostic system. The system should take an array of symptoms as input and query the database to return the list of most probable diagnoses based on evoking strength and frequency. Implement a scoring mechanism to determine the order of probable diagnoses.\n",
        "\n",
        "\n"
      ],
      "metadata": {
        "id": "5Dec3AsGpGNn"
      }
    },
    {
      "cell_type": "markdown",
      "source": [
        "$Score = EvokingStrength$.\n",
        "\n",
        "Lets use simple formula for score with just Evoking Strength as an example"
      ],
      "metadata": {
        "id": "LsVWxAnor4jg"
      }
    },
    {
      "cell_type": "code",
      "source": [
        "\n",
        "def get_probable_diagnoses_simple(symptoms):\n",
        "    session = Session()\n",
        "\n",
        "    # Initialize a dictionary to store condition scores\n",
        "    condition_scores = {}\n",
        "\n",
        "    # Query all conditions from the database\n",
        "    all_conditions = session.query(Condition).all()\n",
        "\n",
        "    # Calculate scores for each condition based on symptoms\n",
        "    for condition in all_conditions:\n",
        "        condition_name = condition.name\n",
        "        condition_evoking_strength = condition.evoking_strength or 1.0  # Default to 1.0 if evoking_strength is None\n",
        "\n",
        "        # Calculate a score for the condition based on symptoms\n",
        "        score = 0\n",
        "        for symptom in symptoms:\n",
        "            # Check if the symptom is associated with the current condition\n",
        "            associated_symptom = session.query(Symptom).filter_by(name=symptom).first()\n",
        "            if associated_symptom and condition in associated_symptom.conditions:\n",
        "                score +=  condition_evoking_strength\n",
        "\n",
        "        # Store the score for the condition\n",
        "        condition_scores[condition_name] = score\n",
        "\n",
        "    # Sort conditions by score in descending order\n",
        "    sorted_conditions = sorted(condition_scores.items(), key=lambda x: x[1], reverse= False)\n",
        "\n",
        "    # Close the session\n",
        "    session.close()\n",
        "\n",
        "    # Return the list of most probable diagnoses\n",
        "    return sorted_conditions\n",
        "\n",
        "\n"
      ],
      "metadata": {
        "id": "v6bzSziEm3Nr"
      },
      "execution_count": null,
      "outputs": []
    },
    {
      "cell_type": "code",
      "source": [
        "input_symptoms = [\"Fever\", \"Cough\"]\n",
        "probable_diagnoses = get_probable_diagnoses_simple(input_symptoms)\n",
        "\n",
        "print(\"Most probable diagnoses:\")\n",
        "for condition, score in probable_diagnoses:\n",
        "    print(f\"Condition: {condition}, Score: {score}\")"
      ],
      "metadata": {
        "colab": {
          "base_uri": "https://localhost:8080/"
        },
        "id": "OspK520sowvR",
        "outputId": "9fa65d52-9440-463c-af2d-903a99bf5b15"
      },
      "execution_count": null,
      "outputs": [
        {
          "output_type": "stream",
          "name": "stdout",
          "text": [
            "Most probable diagnoses:\n",
            "Condition: Asthma, Score: 0\n",
            "Condition: Pneumonia, Score: 0\n",
            "Condition: Migraine, Score: 0\n",
            "Condition: Tension Headache, Score: 0\n",
            "Condition: Sinusitis, Score: 0\n",
            "Condition: Chronic Fatigue Syndrome, Score: 0\n",
            "Condition: Anemia, Score: 0\n",
            "Condition: Gastritis, Score: 0\n",
            "Condition: Appendicitis, Score: 0\n",
            "Condition: Food Poisoning, Score: 0\n",
            "Condition: Morning Sickness, Score: 0\n",
            "Condition: Gastroenteritis, Score: 0\n",
            "Condition: Heart Attack, Score: 0\n",
            "Condition: Gastroesophageal Reflux Disease (GERD), Score: 0\n",
            "Condition: Rheumatoid Arthritis, Score: 0\n",
            "Condition: Osteoarthritis, Score: 0\n",
            "Condition: Vertigo, Score: 0\n",
            "Condition: Low Blood Pressure, Score: 0\n",
            "Condition: Eczema, Score: 0\n",
            "Condition: Contact Dermatitis, Score: 0\n",
            "Condition: Urinary Tract Infection (UTI), Score: 0\n",
            "Condition: Diabetes, Score: 0\n",
            "Condition: Bronchitis, Score: 3.0\n",
            "Condition: Influenza, Score: 4.0\n",
            "Condition: Common Cold, Score: 6.0\n",
            "Condition: COVID-19, Score: 8.0\n"
          ]
        }
      ]
    },
    {
      "cell_type": "markdown",
      "source": [
        "### Exercise 2\n",
        "\n",
        "Now extend the function to use scoring with both Frequency and Evoking Strength"
      ],
      "metadata": {
        "id": "yKON_ebNtKX4"
      }
    },
    {
      "cell_type": "markdown",
      "source": [
        "$Score = Frequency * EvokingStrength$.\n",
        "\n"
      ],
      "metadata": {
        "id": "q4ACOi_psvVD"
      }
    },
    {
      "cell_type": "markdown",
      "source": [
        "#### Exercise 2a - 7 pts:\n",
        "\n",
        "\n",
        "*   Adjust the get_probable_diagnoses_simple function to effectively incorporate both \"Frequency\" and \"Evoking Strength\" into the **scoring formula mentioned earlier**.\n",
        "\n",
        "\n",
        "*   Extend the function to accept an **additional input parameter**, n, which represents the number of top diagnoses to be returned. For instance, if n is set to 5, the function should return the top 5 probable diagnoses based on the scoring formula.\n",
        "\n",
        "\n",
        "\n",
        "*   Make sure that the list of probable diagnoses returned by the function is **sorted in descending order**, with the most likely diagnosis appearing at the top of the list.\n",
        "\n"
      ],
      "metadata": {
        "id": "I4E15KTtuKhI"
      }
    },
    {
      "cell_type": "code",
      "source": [
        "from collections import defaultdict\n",
        "\n",
        "def get_probable_diagnoses_simple(symptoms, n=10):\n",
        "    # Score = Frequency * EvokingStrength (per matched symptom), return top-n\n",
        "\n",
        "    # clean inputs\n",
        "    symptoms = [s.strip() for s in symptoms if s and s.strip()]\n",
        "    if not symptoms:\n",
        "        return []\n",
        "\n",
        "    # cache symptom rows once\n",
        "    sym_rows = {\n",
        "        s.name: s.id\n",
        "        for s in session.query(Symptom).filter(Symptom.name.in_(symptoms)).all()\n",
        "    }\n",
        "    if not sym_rows:\n",
        "        return []\n",
        "\n",
        "    # pull all conditions once\n",
        "    all_conditions = session.query(Condition).all()\n",
        "\n",
        "    condition_scores = defaultdict(float)\n",
        "\n",
        "    for condition in all_conditions:\n",
        "        freq = (getattr(condition, \"frequency\", 0) or 0)\n",
        "        evk  = (getattr(condition, \"evoking_strength\", 0) or 0)\n",
        "        pair_score = freq * evk  # <-- scoring formula required by the prompt\n",
        "\n",
        "        # find which of the input symptoms are linked to THIS condition\n",
        "        linked_symptom_ids = {\n",
        "            sid for (sid,) in session.query(symptom_condition_association.c.symptom_id)\n",
        "            .filter(symptom_condition_association.c.condition_id == condition.id)\n",
        "            .all()\n",
        "        }\n",
        "\n",
        "        # add score once per matched symptom\n",
        "        for sym_name, sym_id in sym_rows.items():\n",
        "            if sym_id in linked_symptom_ids:\n",
        "                condition_scores[condition.name] += pair_score\n",
        "\n",
        "    # sort by score desc and return top-n\n",
        "    ranked = sorted(condition_scores.items(), key=lambda kv: kv[1], reverse=True)[:n]\n",
        "    return ranked\n",
        "\n",
        "# quick sanity test\n",
        "print(get_probable_diagnoses_simple([\"Fever\",\"Cough\"], n=5))\n",
        "\n",
        "\n"
      ],
      "metadata": {
        "id": "e5BuwV6iwxbB",
        "colab": {
          "base_uri": "https://localhost:8080/"
        },
        "outputId": "a7bf0c77-9d29-4cd7-c4dd-334d0cb318e9"
      },
      "execution_count": null,
      "outputs": [
        {
          "output_type": "stream",
          "name": "stdout",
          "text": [
            "[('COVID-19', 24.0), ('Common Cold', 18.0), ('Influenza', 12.0), ('Bronchitis', 6.0)]\n"
          ]
        }
      ]
    },
    {
      "cell_type": "markdown",
      "source": [
        "#### Exercise 2b - 3 pts\n",
        "\n",
        "Now, run the ***get_probable_diagnoses_extended*** function for a patient **presenting symptoms \"Fever,\" \"Cough,\" \"Headache,\" and \"Shortness of Breath,**\" and ensure that it returns the **top 4 probable diagnoses**."
      ],
      "metadata": {
        "id": "I3-QNyr4xK5o"
      }
    },
    {
      "cell_type": "code",
      "source": [
        "# Input symptom set for 2b\n",
        "example_symptoms = [\"Fever\", \"Cough\", \"Headache\", \"Shortness of Breath\"]\n",
        "\n",
        "# The prompt asks for the function get_probable_diagnoses_extended and top 4 dx.\n",
        "# We'll implement a thin wrapper that calls the simple function with n=4.\n",
        "def get_probable_diagnoses_extended(symptoms, n=4):\n",
        "    return get_probable_diagnoses_simple(symptoms, n=n)\n",
        "\n",
        "top4 = get_probable_diagnoses_extended(example_symptoms, n=4)\n",
        "\n",
        "# Display cleanly\n",
        "import pandas as pd\n",
        "df_results_2b = pd.DataFrame(top4, columns=[\"Condition\", \"Score\"])\n",
        "df_results_2b\n"
      ],
      "metadata": {
        "id": "IIfDrZUpvCbk",
        "colab": {
          "base_uri": "https://localhost:8080/",
          "height": 174
        },
        "outputId": "08fe3903-d4a8-4fc3-bc0d-7fc1be11c85a"
      },
      "execution_count": null,
      "outputs": [
        {
          "output_type": "execute_result",
          "data": {
            "text/plain": [
              "     Condition  Score\n",
              "0     COVID-19   36.0\n",
              "1  Common Cold   18.0\n",
              "2    Influenza   12.0\n",
              "3     Migraine   12.0"
            ],
            "text/html": [
              "\n",
              "  <div id=\"df-22aea1a6-5556-4a10-972d-2a91356ee31f\" class=\"colab-df-container\">\n",
              "    <div>\n",
              "<style scoped>\n",
              "    .dataframe tbody tr th:only-of-type {\n",
              "        vertical-align: middle;\n",
              "    }\n",
              "\n",
              "    .dataframe tbody tr th {\n",
              "        vertical-align: top;\n",
              "    }\n",
              "\n",
              "    .dataframe thead th {\n",
              "        text-align: right;\n",
              "    }\n",
              "</style>\n",
              "<table border=\"1\" class=\"dataframe\">\n",
              "  <thead>\n",
              "    <tr style=\"text-align: right;\">\n",
              "      <th></th>\n",
              "      <th>Condition</th>\n",
              "      <th>Score</th>\n",
              "    </tr>\n",
              "  </thead>\n",
              "  <tbody>\n",
              "    <tr>\n",
              "      <th>0</th>\n",
              "      <td>COVID-19</td>\n",
              "      <td>36.0</td>\n",
              "    </tr>\n",
              "    <tr>\n",
              "      <th>1</th>\n",
              "      <td>Common Cold</td>\n",
              "      <td>18.0</td>\n",
              "    </tr>\n",
              "    <tr>\n",
              "      <th>2</th>\n",
              "      <td>Influenza</td>\n",
              "      <td>12.0</td>\n",
              "    </tr>\n",
              "    <tr>\n",
              "      <th>3</th>\n",
              "      <td>Migraine</td>\n",
              "      <td>12.0</td>\n",
              "    </tr>\n",
              "  </tbody>\n",
              "</table>\n",
              "</div>\n",
              "    <div class=\"colab-df-buttons\">\n",
              "\n",
              "  <div class=\"colab-df-container\">\n",
              "    <button class=\"colab-df-convert\" onclick=\"convertToInteractive('df-22aea1a6-5556-4a10-972d-2a91356ee31f')\"\n",
              "            title=\"Convert this dataframe to an interactive table.\"\n",
              "            style=\"display:none;\">\n",
              "\n",
              "  <svg xmlns=\"http://www.w3.org/2000/svg\" height=\"24px\" viewBox=\"0 -960 960 960\">\n",
              "    <path d=\"M120-120v-720h720v720H120Zm60-500h600v-160H180v160Zm220 220h160v-160H400v160Zm0 220h160v-160H400v160ZM180-400h160v-160H180v160Zm440 0h160v-160H620v160ZM180-180h160v-160H180v160Zm440 0h160v-160H620v160Z\"/>\n",
              "  </svg>\n",
              "    </button>\n",
              "\n",
              "  <style>\n",
              "    .colab-df-container {\n",
              "      display:flex;\n",
              "      gap: 12px;\n",
              "    }\n",
              "\n",
              "    .colab-df-convert {\n",
              "      background-color: #E8F0FE;\n",
              "      border: none;\n",
              "      border-radius: 50%;\n",
              "      cursor: pointer;\n",
              "      display: none;\n",
              "      fill: #1967D2;\n",
              "      height: 32px;\n",
              "      padding: 0 0 0 0;\n",
              "      width: 32px;\n",
              "    }\n",
              "\n",
              "    .colab-df-convert:hover {\n",
              "      background-color: #E2EBFA;\n",
              "      box-shadow: 0px 1px 2px rgba(60, 64, 67, 0.3), 0px 1px 3px 1px rgba(60, 64, 67, 0.15);\n",
              "      fill: #174EA6;\n",
              "    }\n",
              "\n",
              "    .colab-df-buttons div {\n",
              "      margin-bottom: 4px;\n",
              "    }\n",
              "\n",
              "    [theme=dark] .colab-df-convert {\n",
              "      background-color: #3B4455;\n",
              "      fill: #D2E3FC;\n",
              "    }\n",
              "\n",
              "    [theme=dark] .colab-df-convert:hover {\n",
              "      background-color: #434B5C;\n",
              "      box-shadow: 0px 1px 3px 1px rgba(0, 0, 0, 0.15);\n",
              "      filter: drop-shadow(0px 1px 2px rgba(0, 0, 0, 0.3));\n",
              "      fill: #FFFFFF;\n",
              "    }\n",
              "  </style>\n",
              "\n",
              "    <script>\n",
              "      const buttonEl =\n",
              "        document.querySelector('#df-22aea1a6-5556-4a10-972d-2a91356ee31f button.colab-df-convert');\n",
              "      buttonEl.style.display =\n",
              "        google.colab.kernel.accessAllowed ? 'block' : 'none';\n",
              "\n",
              "      async function convertToInteractive(key) {\n",
              "        const element = document.querySelector('#df-22aea1a6-5556-4a10-972d-2a91356ee31f');\n",
              "        const dataTable =\n",
              "          await google.colab.kernel.invokeFunction('convertToInteractive',\n",
              "                                                    [key], {});\n",
              "        if (!dataTable) return;\n",
              "\n",
              "        const docLinkHtml = 'Like what you see? Visit the ' +\n",
              "          '<a target=\"_blank\" href=https://colab.research.google.com/notebooks/data_table.ipynb>data table notebook</a>'\n",
              "          + ' to learn more about interactive tables.';\n",
              "        element.innerHTML = '';\n",
              "        dataTable['output_type'] = 'display_data';\n",
              "        await google.colab.output.renderOutput(dataTable, element);\n",
              "        const docLink = document.createElement('div');\n",
              "        docLink.innerHTML = docLinkHtml;\n",
              "        element.appendChild(docLink);\n",
              "      }\n",
              "    </script>\n",
              "  </div>\n",
              "\n",
              "\n",
              "    <div id=\"df-01a01cfc-7454-46a4-892e-7888f94bad94\">\n",
              "      <button class=\"colab-df-quickchart\" onclick=\"quickchart('df-01a01cfc-7454-46a4-892e-7888f94bad94')\"\n",
              "                title=\"Suggest charts\"\n",
              "                style=\"display:none;\">\n",
              "\n",
              "<svg xmlns=\"http://www.w3.org/2000/svg\" height=\"24px\"viewBox=\"0 0 24 24\"\n",
              "     width=\"24px\">\n",
              "    <g>\n",
              "        <path d=\"M19 3H5c-1.1 0-2 .9-2 2v14c0 1.1.9 2 2 2h14c1.1 0 2-.9 2-2V5c0-1.1-.9-2-2-2zM9 17H7v-7h2v7zm4 0h-2V7h2v10zm4 0h-2v-4h2v4z\"/>\n",
              "    </g>\n",
              "</svg>\n",
              "      </button>\n",
              "\n",
              "<style>\n",
              "  .colab-df-quickchart {\n",
              "      --bg-color: #E8F0FE;\n",
              "      --fill-color: #1967D2;\n",
              "      --hover-bg-color: #E2EBFA;\n",
              "      --hover-fill-color: #174EA6;\n",
              "      --disabled-fill-color: #AAA;\n",
              "      --disabled-bg-color: #DDD;\n",
              "  }\n",
              "\n",
              "  [theme=dark] .colab-df-quickchart {\n",
              "      --bg-color: #3B4455;\n",
              "      --fill-color: #D2E3FC;\n",
              "      --hover-bg-color: #434B5C;\n",
              "      --hover-fill-color: #FFFFFF;\n",
              "      --disabled-bg-color: #3B4455;\n",
              "      --disabled-fill-color: #666;\n",
              "  }\n",
              "\n",
              "  .colab-df-quickchart {\n",
              "    background-color: var(--bg-color);\n",
              "    border: none;\n",
              "    border-radius: 50%;\n",
              "    cursor: pointer;\n",
              "    display: none;\n",
              "    fill: var(--fill-color);\n",
              "    height: 32px;\n",
              "    padding: 0;\n",
              "    width: 32px;\n",
              "  }\n",
              "\n",
              "  .colab-df-quickchart:hover {\n",
              "    background-color: var(--hover-bg-color);\n",
              "    box-shadow: 0 1px 2px rgba(60, 64, 67, 0.3), 0 1px 3px 1px rgba(60, 64, 67, 0.15);\n",
              "    fill: var(--button-hover-fill-color);\n",
              "  }\n",
              "\n",
              "  .colab-df-quickchart-complete:disabled,\n",
              "  .colab-df-quickchart-complete:disabled:hover {\n",
              "    background-color: var(--disabled-bg-color);\n",
              "    fill: var(--disabled-fill-color);\n",
              "    box-shadow: none;\n",
              "  }\n",
              "\n",
              "  .colab-df-spinner {\n",
              "    border: 2px solid var(--fill-color);\n",
              "    border-color: transparent;\n",
              "    border-bottom-color: var(--fill-color);\n",
              "    animation:\n",
              "      spin 1s steps(1) infinite;\n",
              "  }\n",
              "\n",
              "  @keyframes spin {\n",
              "    0% {\n",
              "      border-color: transparent;\n",
              "      border-bottom-color: var(--fill-color);\n",
              "      border-left-color: var(--fill-color);\n",
              "    }\n",
              "    20% {\n",
              "      border-color: transparent;\n",
              "      border-left-color: var(--fill-color);\n",
              "      border-top-color: var(--fill-color);\n",
              "    }\n",
              "    30% {\n",
              "      border-color: transparent;\n",
              "      border-left-color: var(--fill-color);\n",
              "      border-top-color: var(--fill-color);\n",
              "      border-right-color: var(--fill-color);\n",
              "    }\n",
              "    40% {\n",
              "      border-color: transparent;\n",
              "      border-right-color: var(--fill-color);\n",
              "      border-top-color: var(--fill-color);\n",
              "    }\n",
              "    60% {\n",
              "      border-color: transparent;\n",
              "      border-right-color: var(--fill-color);\n",
              "    }\n",
              "    80% {\n",
              "      border-color: transparent;\n",
              "      border-right-color: var(--fill-color);\n",
              "      border-bottom-color: var(--fill-color);\n",
              "    }\n",
              "    90% {\n",
              "      border-color: transparent;\n",
              "      border-bottom-color: var(--fill-color);\n",
              "    }\n",
              "  }\n",
              "</style>\n",
              "\n",
              "      <script>\n",
              "        async function quickchart(key) {\n",
              "          const quickchartButtonEl =\n",
              "            document.querySelector('#' + key + ' button');\n",
              "          quickchartButtonEl.disabled = true;  // To prevent multiple clicks.\n",
              "          quickchartButtonEl.classList.add('colab-df-spinner');\n",
              "          try {\n",
              "            const charts = await google.colab.kernel.invokeFunction(\n",
              "                'suggestCharts', [key], {});\n",
              "          } catch (error) {\n",
              "            console.error('Error during call to suggestCharts:', error);\n",
              "          }\n",
              "          quickchartButtonEl.classList.remove('colab-df-spinner');\n",
              "          quickchartButtonEl.classList.add('colab-df-quickchart-complete');\n",
              "        }\n",
              "        (() => {\n",
              "          let quickchartButtonEl =\n",
              "            document.querySelector('#df-01a01cfc-7454-46a4-892e-7888f94bad94 button');\n",
              "          quickchartButtonEl.style.display =\n",
              "            google.colab.kernel.accessAllowed ? 'block' : 'none';\n",
              "        })();\n",
              "      </script>\n",
              "    </div>\n",
              "\n",
              "  <div id=\"id_b5fe57af-bfd2-4bc7-a2f5-6bd57dc6806e\">\n",
              "    <style>\n",
              "      .colab-df-generate {\n",
              "        background-color: #E8F0FE;\n",
              "        border: none;\n",
              "        border-radius: 50%;\n",
              "        cursor: pointer;\n",
              "        display: none;\n",
              "        fill: #1967D2;\n",
              "        height: 32px;\n",
              "        padding: 0 0 0 0;\n",
              "        width: 32px;\n",
              "      }\n",
              "\n",
              "      .colab-df-generate:hover {\n",
              "        background-color: #E2EBFA;\n",
              "        box-shadow: 0px 1px 2px rgba(60, 64, 67, 0.3), 0px 1px 3px 1px rgba(60, 64, 67, 0.15);\n",
              "        fill: #174EA6;\n",
              "      }\n",
              "\n",
              "      [theme=dark] .colab-df-generate {\n",
              "        background-color: #3B4455;\n",
              "        fill: #D2E3FC;\n",
              "      }\n",
              "\n",
              "      [theme=dark] .colab-df-generate:hover {\n",
              "        background-color: #434B5C;\n",
              "        box-shadow: 0px 1px 3px 1px rgba(0, 0, 0, 0.15);\n",
              "        filter: drop-shadow(0px 1px 2px rgba(0, 0, 0, 0.3));\n",
              "        fill: #FFFFFF;\n",
              "      }\n",
              "    </style>\n",
              "    <button class=\"colab-df-generate\" onclick=\"generateWithVariable('df_results_2b')\"\n",
              "            title=\"Generate code using this dataframe.\"\n",
              "            style=\"display:none;\">\n",
              "\n",
              "  <svg xmlns=\"http://www.w3.org/2000/svg\" height=\"24px\"viewBox=\"0 0 24 24\"\n",
              "       width=\"24px\">\n",
              "    <path d=\"M7,19H8.4L18.45,9,17,7.55,7,17.6ZM5,21V16.75L18.45,3.32a2,2,0,0,1,2.83,0l1.4,1.43a1.91,1.91,0,0,1,.58,1.4,1.91,1.91,0,0,1-.58,1.4L9.25,21ZM18.45,9,17,7.55Zm-12,3A5.31,5.31,0,0,0,4.9,8.1,5.31,5.31,0,0,0,1,6.5,5.31,5.31,0,0,0,4.9,4.9,5.31,5.31,0,0,0,6.5,1,5.31,5.31,0,0,0,8.1,4.9,5.31,5.31,0,0,0,12,6.5,5.46,5.46,0,0,0,6.5,12Z\"/>\n",
              "  </svg>\n",
              "    </button>\n",
              "    <script>\n",
              "      (() => {\n",
              "      const buttonEl =\n",
              "        document.querySelector('#id_b5fe57af-bfd2-4bc7-a2f5-6bd57dc6806e button.colab-df-generate');\n",
              "      buttonEl.style.display =\n",
              "        google.colab.kernel.accessAllowed ? 'block' : 'none';\n",
              "\n",
              "      buttonEl.onclick = () => {\n",
              "        google.colab.notebook.generateWithVariable('df_results_2b');\n",
              "      }\n",
              "      })();\n",
              "    </script>\n",
              "  </div>\n",
              "\n",
              "    </div>\n",
              "  </div>\n"
            ],
            "application/vnd.google.colaboratory.intrinsic+json": {
              "type": "dataframe",
              "variable_name": "df_results_2b",
              "summary": "{\n  \"name\": \"df_results_2b\",\n  \"rows\": 4,\n  \"fields\": [\n    {\n      \"column\": \"Condition\",\n      \"properties\": {\n        \"dtype\": \"string\",\n        \"num_unique_values\": 4,\n        \"samples\": [\n          \"Common Cold\",\n          \"Migraine\",\n          \"COVID-19\"\n        ],\n        \"semantic_type\": \"\",\n        \"description\": \"\"\n      }\n    },\n    {\n      \"column\": \"Score\",\n      \"properties\": {\n        \"dtype\": \"number\",\n        \"std\": 11.357816691600547,\n        \"min\": 12.0,\n        \"max\": 36.0,\n        \"num_unique_values\": 3,\n        \"samples\": [\n          36.0,\n          18.0,\n          12.0\n        ],\n        \"semantic_type\": \"\",\n        \"description\": \"\"\n      }\n    }\n  ]\n}"
            }
          },
          "metadata": {},
          "execution_count": 20
        }
      ]
    }
  ]
}